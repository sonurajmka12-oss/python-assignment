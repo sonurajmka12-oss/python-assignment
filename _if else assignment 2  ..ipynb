{
 "cells": [
  {
   "cell_type": "markdown",
   "id": "c32b0bb8-6644-462f-a5cc-e0f650ebf9a2",
   "metadata": {},
   "source": [
    "1.  Write a program to calculate the electricity bill\n",
    "using only if statement? (accept number of unit from user)\n",
    "according to the following criteria:\n",
    "\n",
    "Unit Price\n",
    "First 100 units no charge\n",
    "Next 100 units Rs 5 per unit\n",
    "After 200 units Rs 10 per unit\n",
    "(For example, if input unit is 350 than total bill amount is Rs2000). Lets explain...\n",
    "For first 100 no charges\n",
    "Now you have 250 unit remaining\n",
    "100-200 you need to pay – 100*5 = 500\n",
    "Now 200-100 you need to pay 150*10 = 1500\n",
    "Total = 500+1500 = 2000"
   ]
  },
  {
   "cell_type": "code",
   "execution_count": 1,
   "id": "be403404-0205-4931-90dd-99b9681469d5",
   "metadata": {},
   "outputs": [
    {
     "name": "stdin",
     "output_type": "stream",
     "text": [
      "Enter the number of units:  350\n"
     ]
    },
    {
     "name": "stdout",
     "output_type": "stream",
     "text": [
      "total electricity bill: ₹ 2000\n"
     ]
    }
   ],
   "source": [
    "units = int(input(\"Enter the number of units: \"))\n",
    "bill = 0  \n",
    "\n",
    "if units <= 100:\n",
    "    bill = 0\n",
    "if units > 100 and units <= 200 :\n",
    "    bill = (units - 100) * 5\n",
    "if units >= 200:\n",
    "    bill = (units - 200 ) * 10 + 100 * 5 \n",
    "print (\"total electricity bill: ₹\", bill )\n",
    " "
   ]
  },
  {
   "cell_type": "markdown",
   "id": "43e3388d-2df2-4789-8e43-699823914b18",
   "metadata": {},
   "source": [
    " 2.  Write a program to accept percentage from the user and display\n",
    "the grade according to the following criteria:\n",
    "\n",
    "Marks Grade\n",
    "> 90 A\n",
    "> 80 and <= 90 B\n",
    ">= 60 and <= 80 C\n",
    "below 60 D"
   ]
  },
  {
   "cell_type": "code",
   "execution_count": 13,
   "id": "86cd1df0-e79d-42d8-9a69-e4bfe9ef3007",
   "metadata": {},
   "outputs": [
    {
     "name": "stdin",
     "output_type": "stream",
     "text": [
      "marks: 89\n"
     ]
    },
    {
     "name": "stdout",
     "output_type": "stream",
     "text": [
      "B\n"
     ]
    }
   ],
   "source": [
    "marks = int (input (\"marks:\"))\n",
    "\n",
    "if marks >= 90:\n",
    "    print (\"A\")\n",
    "if marks>=80 and marks  <=90:\n",
    "    print (\"B\")\n",
    "if marks >= 60 and marks  <=80:\n",
    "    print (\"C\")\n",
    "if marks <60:\n",
    "    print (\"D\")\n"
   ]
  },
  {
   "cell_type": "markdown",
   "id": "4b26731f-31c5-46d5-b3a1-d0d2a8426c59",
   "metadata": {},
   "source": [
    "3. Accept the age of 4 people and display the youngest one?"
   ]
  },
  {
   "cell_type": "code",
   "execution_count": 12,
   "id": "32b3813a-df32-4936-9f81-13369454b0a2",
   "metadata": {},
   "outputs": [
    {
     "name": "stdin",
     "output_type": "stream",
     "text": [
      "Enter the first Age 23\n",
      "Enter the Second Age 24\n",
      "Enter the Third Age 25\n",
      "Enter the Fourth Age 26\n"
     ]
    },
    {
     "name": "stdout",
     "output_type": "stream",
     "text": [
      "Entered the Age are 23 24 25 26\n",
      "The youngest Age is 23\n"
     ]
    }
   ],
   "source": [
    "# Program to built the youngest of all 4\n",
    "age1=int(input('Enter the first Age'))\n",
    "age2=int(input('Enter the Second Age'))\n",
    "age3=int(input('Enter the Third Age'))\n",
    "age4=int(input('Enter the Fourth Age'))\n",
    "print('Entered the Age are' ,age1 , age2 , age3 , age4 )\n",
    "y=age1\n",
    "if age2<y:\n",
    " y=age2\n",
    "if age3<y:\n",
    " y=age3\n",
    "if age4<y:\n",
    " y=age4\n",
    "\n",
    "print('The youngest Age is',y)\n"
   ]
  },
  {
   "cell_type": "markdown",
   "id": "e875840c-248c-4d9e-9651-bab6478b3f8d",
   "metadata": {},
   "source": [
    "4. A company decided to give bonus to employee\n",
    "according to following criteria:\n",
    "\n",
    "Time period of Service Bonus\n",
    "\n",
    "More than 10 years 10%\n",
    "\n",
    ">=6 and <=10 8%\n",
    "\n",
    "Less than 6 years 5%\n",
    "\n",
    "Ask user for their salary and years of service and print the\n",
    "net bonus amount?"
   ]
  },
  {
   "cell_type": "code",
   "execution_count": 11,
   "id": "a75761f2-600a-4462-a431-dea3372bb62b",
   "metadata": {},
   "outputs": [
    {
     "name": "stdin",
     "output_type": "stream",
     "text": [
      "enter to the salary : 100000\n",
      "enter to the year : 9\n"
     ]
    },
    {
     "name": "stdout",
     "output_type": "stream",
     "text": [
      "your net bonus amount is:, 8000.0 \n"
     ]
    }
   ],
   "source": [
    "salary = int(input(\"enter to the salary :\"))\n",
    "year = int(input(\"enter to the year :\"))\n",
    "if year >= 10:\n",
    "    bonus = 10\n",
    "elif year >=6  and year <=10:\n",
    "    bonus = 8\n",
    "else : \n",
    "    bonus = 5\n",
    "\n",
    "bonus_amount  = (bonus / 100) * salary \n",
    "\n",
    "print (f\"your net bonus amount is: {bonus_amount } \")    "
   ]
  },
  {
   "cell_type": "markdown",
   "id": "6f54370d-9673-439a-b11c-67112a80f5e3",
   "metadata": {},
   "source": [
    "5. Accept three numbers from the user and\n",
    "display the second largest number?"
   ]
  },
  {
   "cell_type": "code",
   "execution_count": 24,
   "id": "b4c1e809-f107-46dd-a171-c11be5a498ab",
   "metadata": {},
   "outputs": [
    {
     "name": "stdin",
     "output_type": "stream",
     "text": [
      "enter the number1  10\n",
      "enter the number2  11\n",
      "enter the number3 12\n"
     ]
    },
    {
     "name": "stdout",
     "output_type": "stream",
     "text": [
      "enter the num 10 11 12\n",
      " the large number is : 12\n"
     ]
    }
   ],
   "source": [
    "num1 = int(input(\"enter the number1 \"))\n",
    "num2 = int(input(\"enter the number2 \"))\n",
    "num3 = int(input(\"enter the number3\"))\n",
    "print ('enter the num', num1 , num2 , num3)\n",
    "\n",
    "large = num1\n",
    "\n",
    "\n",
    "if num2 > large:\n",
    "    large = num2\n",
    "if num3 > large:\n",
    "    large = num3\n",
    "\n",
    "print (\" the large number is :\", large)\n",
    "\n",
    "\n",
    "\n",
    "\n",
    "\n",
    "\n"
   ]
  },
  {
   "cell_type": "markdown",
   "id": "72cea531-0747-426d-bfb0-32ddeadbee65",
   "metadata": {},
   "source": [
    "6. Accept the marked price from the user and calculate\n",
    "the Net amount as (Marked Price – Discount) to pay\n",
    "according to following criteria:\n",
    "\n",
    "Marked Price Discount\n",
    ">10000 20%\n",
    ">7000 and <=10000 15%\n",
    "<=7000 10%"
   ]
  },
  {
   "cell_type": "code",
   "execution_count": 6,
   "id": "6f90d1e9-29c5-42e0-9014-3c250c52c29f",
   "metadata": {},
   "outputs": [
    {
     "name": "stdin",
     "output_type": "stream",
     "text": [
      "Enter Marked Price:  104567\n"
     ]
    },
    {
     "name": "stdout",
     "output_type": "stream",
     "text": [
      "Discount: 20913.4\n",
      "Net Amount to Pay: 83653.6\n"
     ]
    }
   ],
   "source": [
    "mp = float(input(\"Enter Marked Price: \"))\n",
    "\n",
    "if mp > 10000:\n",
    "    discount = 0.20 * mp\n",
    "elif mp >7000:\n",
    "    discount = 0.15 * mp\n",
    "else:\n",
    "    discount = 0.10 * mp\n",
    "net_amount = mp - discount\n",
    "print(\"Discount:\", discount)\n",
    "print(\"Net Amount to Pay:\", net_amount)\n"
   ]
  },
  {
   "cell_type": "markdown",
   "id": "27667887-740a-440b-8581-d90b110b1ed7",
   "metadata": {},
   "source": [
    "Q7. Accept the marks of English, Math and Science,\n",
    "Social Studies Subject and display the stream allotted\n",
    "according to following:\n",
    "\n",
    "All Subjects more than 80 marks — Science Stream\n",
    "\n",
    "English >80 and Math, Science above 50 — Commerce Stream\n",
    "\n",
    "English > 80 and social studies > 80 — Humanities"
   ]
  },
  {
   "cell_type": "code",
   "execution_count": 9,
   "id": "10861888-c456-45eb-960a-6816659804c0",
   "metadata": {},
   "outputs": [
    {
     "name": "stdin",
     "output_type": "stream",
     "text": [
      "Enter marks in English:  88\n",
      "Enter marks in Math:  98\n",
      "Enter marks in Science:  81\n",
      "Enter marks in Social Studies:  82\n"
     ]
    },
    {
     "name": "stdout",
     "output_type": "stream",
     "text": [
      " Stream Allotted: Science Stream\n"
     ]
    }
   ],
   "source": [
    "eng = int(input(\"Enter marks in English: \"))\n",
    "math = int(input(\"Enter marks in Math: \"))\n",
    "sci = int(input(\"Enter marks in Science: \"))\n",
    "sst = int(input(\"Enter marks in Social Studies: \"))\n",
    "\n",
    "if eng > 80 and math > 80 and sci > 80 and sst > 80:\n",
    "    print(\" Stream Allotted: Science Stream\")\n",
    "elif eng > 80 and math > 50 and sci > 50:\n",
    "    print(\" Stream Allotted: Commerce Stream\")\n",
    "elif eng > 80 and sst > 80:\n",
    "    print(\" Stream Allotted: Humanities Stream\")\n",
    "else:\n",
    "    print(\" No stream allotted\")\n"
   ]
  },
  {
   "cell_type": "markdown",
   "id": "28b6cead-7ca8-4c95-a81d-0c5cefb96ab9",
   "metadata": {},
   "source": [
    "Q8. Write a program to display \"Hello\" if a number entered\n",
    "by user is a multiple of five, otherwise print \"Bye\"?"
   ]
  },
  {
   "cell_type": "code",
   "execution_count": 13,
   "id": "5c3e9eeb-6048-489b-b0e0-fd7193b3d1d5",
   "metadata": {},
   "outputs": [
    {
     "name": "stdin",
     "output_type": "stream",
     "text": [
      "Enter a number:  5\n"
     ]
    },
    {
     "name": "stdout",
     "output_type": "stream",
     "text": [
      "Hello\n"
     ]
    }
   ],
   "source": [
    "number = int(input(\"Enter a number: \"))\n",
    "\n",
    "if number % 5 == 0:\n",
    "    print(\"Hello\")\n",
    "else:\n",
    "    print(\"Bye\")\n"
   ]
  },
  {
   "cell_type": "markdown",
   "id": "3d5cf83d-670f-4af1-b4b3-95254c97d7ee",
   "metadata": {},
   "source": [
    "Q9. Write a program to check whether the last digit of a number\n",
    "(entered by user) is divisible by 3 or not?"
   ]
  },
  {
   "cell_type": "code",
   "execution_count": 14,
   "id": "436a61b9-b827-443d-a808-fc0e8caf3588",
   "metadata": {},
   "outputs": [
    {
     "name": "stdin",
     "output_type": "stream",
     "text": [
      "Enter a number:  6\n"
     ]
    },
    {
     "name": "stdout",
     "output_type": "stream",
     "text": [
      "The last digit is divisible by 3.\n"
     ]
    }
   ],
   "source": [
    "number = int(input(\"Enter a number: \"))\n",
    "\n",
    "last_digit = number % 10\n",
    "\n",
    "if last_digit % 3 == 0:\n",
    "    print(\"The last digit is divisible by 3.\")\n",
    "else:\n",
    "    print(\"The last digit is not divisible by 3.\")\n"
   ]
  },
  {
   "cell_type": "markdown",
   "id": "264f49fa-4d4b-4b77-9bf2-579b41848a98",
   "metadata": {},
   "source": [
    "Q10. Write a program to check whether a number entered\n",
    "is three-digit number or not?"
   ]
  },
  {
   "cell_type": "code",
   "execution_count": 15,
   "id": "00ee2fa1-921b-4010-82dc-ed0a77ad7988",
   "metadata": {},
   "outputs": [
    {
     "name": "stdin",
     "output_type": "stream",
     "text": [
      "Enter a number:  111\n"
     ]
    },
    {
     "name": "stdout",
     "output_type": "stream",
     "text": [
      "It is a three-digit number.\n"
     ]
    }
   ],
   "source": [
    "number = int(input(\"Enter a number: \"))\n",
    "\n",
    "if 100 <= abs(number) <= 999:\n",
    "    print(\"It is a three-digit number.\")\n",
    "else:\n",
    "    print(\"It is not a three-digit number.\")\n"
   ]
  },
  {
   "cell_type": "code",
   "execution_count": null,
   "id": "c881014f-cae2-40e8-b19b-9fb3fde34e06",
   "metadata": {},
   "outputs": [],
   "source": []
  }
 ],
 "metadata": {
  "kernelspec": {
   "display_name": "Python 3 (ipykernel)",
   "language": "python",
   "name": "python3"
  },
  "language_info": {
   "codemirror_mode": {
    "name": "ipython",
    "version": 3
   },
   "file_extension": ".py",
   "mimetype": "text/x-python",
   "name": "python",
   "nbconvert_exporter": "python",
   "pygments_lexer": "ipython3",
   "version": "3.13.5"
  }
 },
 "nbformat": 4,
 "nbformat_minor": 5
}
